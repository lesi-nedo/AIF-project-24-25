{
 "cells": [
  {
   "cell_type": "markdown",
   "metadata": {},
   "source": [
    "# Group *Code Warriors v8.0* Project"
   ]
  },
  {
   "cell_type": "markdown",
   "metadata": {},
   "source": [
    "## Poblog Based Agent "
   ]
  },
  {
   "cell_type": "markdown",
   "metadata": {},
   "source": [
    "### Starting the Game in Background\n"
   ]
  },
  {
   "cell_type": "code",
   "execution_count": 1,
   "metadata": {},
   "outputs": [
    {
     "name": "stdout",
     "output_type": "stream",
     "text": [
      "/home/lesi-nedo/Desktop/master/first-year/first-semester/AIF/AIF-project-24-25-M\n"
     ]
    }
   ],
   "source": [
    "import subprocess\n",
    "import pathlib\n",
    "import os\n",
    "from threading import Thread, Event\n",
    "import select\n",
    "import sys\n",
    "root_dir = pathlib.Path(os.getcwd()).parent.absolute()\n",
    "print(root_dir)"
   ]
  },
  {
   "cell_type": "code",
   "execution_count": 2,
   "metadata": {},
   "outputs": [
    {
     "name": "stdout",
     "output_type": "stream",
     "text": [
      "Current directory: /home/lesi-nedo/Desktop/master/first-year/first-semester/AIF/AIF-project-24-25-M/DareFightingICE_CODE\n",
      "Started background process with PID: 513282\n",
      "STDOUT: Running with args:  --headless-mode\n"
     ]
    },
    {
     "name": "stdout",
     "output_type": "stream",
     "text": [
      "STDERR: Note: Some input files use or override a deprecated API.\n",
      "STDERR: Note: Recompile with -Xlint:deprecation for details.\n",
      "STDERR: Jan 18, 2025 3:38:59 PM manager.GraphicManager <init>\n",
      "STDERR: INFO: Create instance: manager.GraphicManager\n",
      "STDERR: Jan 18, 2025 3:38:59 PM loader.ResourceLoader <init>\n",
      "STDERR: INFO: Create instance: loader.ResourceLoader\n",
      "STDERR: Jan 18, 2025 3:38:59 PM core.Game initialize\n",
      "STDERR: INFO: Socket server is started, listening on 31415\n",
      "STDERR: Jan 18, 2025 3:38:59 PM gamescene.Socket initialize\n",
      "STDERR: INFO: Waiting to launch a game\n",
      "STDERR: Jan 18, 2025 3:38:59 PM manager.InputManager <init>\n",
      "STDERR: INFO: Create instance: manager.InputManager\n",
      "STDERR: Jan 18, 2025 3:39:01 PM service.SocketServer lambda$startServer$0\n",
      "STDERR: INFO: Received run game request\n",
      "STDERR: Jan 18, 2025 3:39:01 PM service.SocketServer lambda$startServer$0\n",
      "STDERR: INFO: Client connected as Game Playing AI\n",
      "STDERR: Jan 18, 2025 3:39:01 PM service.SocketServer lambda$startServer$0\n",
      "STDERR: INFO: Client connected as Game Playing AI\n",
      "STDERR: Jan 18, 2025 3:39:01 PM gamescene.Launcher update\n",
      "STDERR: INFO: Transition to PLAY\n",
      "STDERR: Jan 18, 2025 3:39:01 PM loader.ResourceLoader loadResource\n",
      "STDERR: INFO: Loading the resources\n",
      "STDERR: Jan 18, 2025 3:39:01 PM loader.ResourceLoader loadResource\n",
      "STDERR: INFO: Hadouken images have been loaded.\n",
      "STDERR: Jan 18, 2025 3:39:01 PM loader.ResourceLoader loadResource\n",
      "STDERR: INFO: Ultimate attack images have been loaded.\n",
      "STDERR: Jan 18, 2025 3:39:01 PM loader.ResourceLoader loadResource\n",
      "STDERR: INFO: Hit counter text images have been loaded.\n",
      "STDERR: Jan 18, 2025 3:39:01 PM loader.ResourceLoader loadResource\n",
      "STDERR: INFO: Hit text image has been loaded.\n",
      "STDERR: Jan 18, 2025 3:39:01 PM loader.ResourceLoader loadResource\n",
      "STDERR: INFO: Hit effect images have been loaded.\n",
      "STDERR: Jan 18, 2025 3:39:01 PM loader.ResourceLoader loadResource\n",
      "STDERR: INFO: Background image has been loaded.\n",
      "STDERR: Jan 18, 2025 3:39:01 PM loader.ResourceLoader loadResource\n",
      "STDERR: INFO: Upper attack images have been loaded.\n",
      "STDERR: Jan 18, 2025 3:39:03 PM loader.ResourceLoader loadResource\n",
      "STDERR: INFO: Character images have been loaded.\n",
      "STDERR: Jan 18, 2025 3:39:03 PM manager.SoundManager <init>\n",
      "STDERR: INFO: Create instance: manager.SoundManager\n",
      "STDERR: Jan 18, 2025 3:39:03 PM util.LogWriter <init>\n",
      "STDERR: INFO: Create instance: util.LogWriter\n",
      "STDERR: Jan 18, 2025 3:39:03 PM aiinterface.ThreadController startAI\n",
      "STDERR: INFO: Start P1 AI controller thread\n",
      "STDERR: Jan 18, 2025 3:39:03 PM aiinterface.ThreadController startAI\n",
      "STDERR: INFO: Start P2 AI controller thread\n",
      "STDERR: Jan 18, 2025 3:39:04 PM util.ResourceDrawer <init>\n",
      "No output received in 5 seconds\n"
     ]
    }
   ],
   "source": [
    "\n",
    "\n",
    "# Kill any existing processes\n",
    "!kill -9 $(ps aux | grep '.*compile_run_linux.*' | awk '{print $2}')\n",
    "!kill -9 $(ps aux | grep 'java.*Main.*--pyftg-mode.*' | awk '{print $2}')\n",
    "\n",
    "TIMEOUT = 5\n",
    "# Change to the DareFightingICE_CODE directory\n",
    "os.chdir(pathlib.Path(root_dir) / 'DareFightingICE_CODE')\n",
    "print(f\"Current directory: {os.getcwd()}\")\n",
    "\n",
    "stop_event = Event()\n",
    "\n",
    "def capture_output(process):\n",
    "    \"\"\"Capture both stdout and stderr from the process\"\"\"\n",
    "    while not stop_event.is_set() and process.poll() is None:\n",
    "        # Monitor both stdout and stderr\n",
    "        reads = [process.stdout.fileno(), process.stderr.fileno()]\n",
    "        ret = select.select(reads, [], [], TIMEOUT)[0]\n",
    "        \n",
    "        if not ret:\n",
    "            print(f\"No output received in {TIMEOUT} seconds\")\n",
    "            continue\n",
    "            \n",
    "        for fd in ret:\n",
    "            if fd == process.stdout.fileno():\n",
    "                output = process.stdout.readline()\n",
    "                if output:\n",
    "                    print(\"STDOUT:\", output.strip().decode())\n",
    "            if fd == process.stderr.fileno():\n",
    "                output = process.stderr.readline()\n",
    "                if output:\n",
    "                    print(\"STDERR:\", output.strip().decode())\n",
    "    \n",
    "    return process.poll()\n",
    "\n",
    "try:\n",
    "    # Run compile_run_linux.sh with both streams captured\n",
    "    process = subprocess.Popen(\n",
    "        ['./compile_run_linux.sh', '--headless'],\n",
    "        stdout=subprocess.PIPE,\n",
    "        stderr=subprocess.PIPE,\n",
    "        universal_newlines=False  # Binary mode\n",
    "    )\n",
    "    \n",
    "    print(f\"Started background process with PID: {process.pid}\")\n",
    "    \n",
    "    # Start output capture thread\n",
    "    output_thread = Thread(\n",
    "        target=capture_output,\n",
    "        args=(process,),\n",
    "        daemon=True\n",
    "    )\n",
    "    output_thread.start()\n",
    "    \n",
    "    # Save PID\n",
    "    with open(os.path.join(root_dir, 'game_process.pid'), 'w') as f:\n",
    "        f.write(str(process.pid))\n",
    "        \n",
    "except Exception as e:\n",
    "    print(f\"Error: {e}\", file=sys.stderr)\n",
    "    if process and process.poll() is None:\n",
    "        process.terminate()\n",
    "finally:\n",
    "    # Cleanup\n",
    "    os.chdir(root_dir)"
   ]
  },
  {
   "cell_type": "code",
   "execution_count": null,
   "metadata": {},
   "outputs": [
    {
     "data": {
      "image/png": "[encoded data removed]",
      "text/plain": [
       "<Figure size 800x960 with 2 Axes>"
      ]
     },
     "metadata": {},
     "output_type": "display_data"
    }
   ],
   "source": [
    "%matplotlib inline\n",
    "from pyftg import Key\n",
    "\n",
    "\n",
    "import keyboard\n",
    "import time\n",
    "import os\n",
    "import sys\n",
    "import logging\n",
    "import pathlib\n",
    "logging.getLogger().setLevel(logging.WARNING)\n",
    "\n",
    "current_dir = os.getcwd()\n",
    "\n",
    "# Change to the DareFightingICE_CODE directory\n",
    "os.chdir(root_dir)\n",
    "print(f\"Current directory: {os.getcwd()}\")\n",
    "\n",
    "from prolog_based.problog_agent_ole.ProblogAgent import ProblogAgent\n",
    "from prolog_based.problog_agent_ole.MainGameAgetVsMyAgent import start_process\n",
    "\n",
    "\n",
    "\n",
    "host='127.0.0.1'\n",
    "port=31415\n",
    "\n",
    "await start_process(host=host, port=port, plot_scenes=True,marco_agent=True)\n",
    "os.chdir(current_dir)"
   ]
  },
  {
   "cell_type": "code",
   "execution_count": null,
   "metadata": {},
   "outputs": [],
   "source": [
    "stop_event.set()\n",
    "!kill -9 $(ps aux | grep '.*compile_run_linux.*' | awk '{print $2}')\n",
    "!kill -9 $(ps aux | grep  'java.*Main.*--pyftg-mode.*' | awk '{print $2}')"
   ]
  }
 ],
 "metadata": {
  "kernelspec": {
   "display_name": "AIF",
   "language": "python",
   "name": "python3"
  },
  "language_info": {
   "codemirror_mode": {
    "name": "ipython",
    "version": 3
   },
   "file_extension": ".py",
   "mimetype": "text/x-python",
   "name": "python",
   "nbconvert_exporter": "python",
   "pygments_lexer": "ipython3",
   "version": "3.12.7"
  }
 },
 "nbformat": 4,
 "nbformat_minor": 2
}
